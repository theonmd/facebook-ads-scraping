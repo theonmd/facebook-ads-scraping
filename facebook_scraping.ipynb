{
 "cells": [
  {
   "cell_type": "markdown",
   "metadata": {},
   "source": [
    "# Facebook Pages and Ads scraping "
   ]
  },
  {
   "cell_type": "markdown",
   "metadata": {},
   "source": [
    "The goal of this notebook is :\n",
    "\n",
    "- First, to find all the pages on Facebook dealing with a specific topic by scraping Facebook\n",
    "- Then, to scrape all the ads published by these pages on the Facebook Ad Librabry\n",
    "\n",
    "You'll need a facbook account to do so, you can either use yours or create one for this task.\n",
    "\n",
    "The main libraries used are Selenium and BeautifulSoup. This project was strongly inspired by a Medium article : https://medium.com/@mackgrenfell/fixing-the-facebook-ad-library-part-i-scraping-can-save-it-6b737d04614c"
   ]
  },
  {
   "cell_type": "code",
   "execution_count": 1,
   "metadata": {},
   "outputs": [],
   "source": [
    "from selenium import webdriver\n",
    "from webdriver_manager.chrome import ChromeDriverManager\n",
    "from selenium.webdriver.support.ui import WebDriverWait\n",
    "from selenium.webdriver.support import expected_conditions as EC\n",
    "from selenium.webdriver.common.by import By\n",
    "from selenium.webdriver.chrome.options import Options\n",
    "from urllib.request import urlopen\n",
    "from bs4 import BeautifulSoup\n",
    "import pandas as pd\n",
    "import csv\n",
    "import time"
   ]
  },
  {
   "cell_type": "markdown",
   "metadata": {},
   "source": [
    "# Scrape Facebook to get all the pages related to a topic"
   ]
  },
  {
   "cell_type": "markdown",
   "metadata": {},
   "source": [
    "### Set the options so that the chrome driver doesn't ask for notifications settings "
   ]
  },
  {
   "cell_type": "code",
   "execution_count": 2,
   "metadata": {},
   "outputs": [],
   "source": [
    "option = Options()\n",
    "\n",
    "option.add_argument(\"--disable-infobars\")\n",
    "option.add_argument(\"start-maximized\")\n",
    "option.add_argument(\"--disable-extensions\")\n",
    "\n",
    "# Pass the argument 1 to allow and 2 to block\n",
    "option.add_experimental_option(\"prefs\", {\"profile.default_content_setting_values.notifications\": 2 })"
   ]
  },
  {
   "cell_type": "markdown",
   "metadata": {},
   "source": [
    "### Log into Facebook"
   ]
  },
  {
   "cell_type": "code",
   "execution_count": 3,
   "metadata": {},
   "outputs": [
    {
     "name": "stderr",
     "output_type": "stream",
     "text": [
      "[WDM] - Current google-chrome version is 86.0.4240\n",
      "[WDM] - Get LATEST driver version for 86.0.4240\n",
      "[WDM] - Get LATEST driver version for 86.0.4240\n",
      "[WDM] - Trying to download new driver from http://chromedriver.storage.googleapis.com/86.0.4240.22/chromedriver_mac64.zip\n"
     ]
    },
    {
     "name": "stdout",
     "output_type": "stream",
     "text": [
      " \n"
     ]
    },
    {
     "name": "stderr",
     "output_type": "stream",
     "text": [
      "[WDM] - Driver has been saved in cache [/Users/theolanganay/.wdm/drivers/chromedriver/mac64/86.0.4240.22]\n"
     ]
    }
   ],
   "source": [
    "searchDriver = webdriver.Chrome(options = option, executable_path=ChromeDriverManager().install())\n",
    "searchDriver.get(\"https://facebook.com/\")\n",
    "\n",
    "# get rid of the cookie banner\n",
    "searchDriver.find_element_by_xpath('//*[@data-testid=\"cookie-policy-banner-accept\"]').click()\n",
    "\n",
    "login = '...' # put your login email address\n",
    "password = '...' # put your password\n",
    "\n",
    "usernameBox = searchDriver.find_element_by_name('email')\n",
    "usernameBox.send_keys(login)\n",
    "passwordBox = searchDriver.find_element_by_name('pass')\n",
    "passwordBox.send_keys(password)\n",
    "\n",
    "try:\n",
    "    loginBox = searchDriver.find_element_by_id('loginbutton')\n",
    "except:\n",
    "    loginBox = searchDriver.find_element_by_name('login')\n",
    "\n",
    "time.sleep(5)\n",
    "loginBox.click()\n",
    "\n",
    "# If you get a click interception error, try to rerun the cell"
   ]
  },
  {
   "cell_type": "markdown",
   "metadata": {},
   "source": [
    "### Choose the subject of interest and load the related pages (useless if you want to focus on a single page)"
   ]
  },
  {
   "cell_type": "code",
   "execution_count": 4,
   "metadata": {},
   "outputs": [],
   "source": [
    "# if your subject has several words, replace the spaces by &20 ex: 'italian cars' would be 'italian&20cars'\n",
    "\n",
    "subject = 'electric&20bicycle'\n",
    "\n",
    "# optional filters that removes the non verified pages. If you don't want to do so, remove the '+ opt_filter' in the last command\n",
    "opt_filter = '&filters=eyJ2ZXJpZmllZCI6IntcIm5hbWVcIjpcInBhZ2VzX3ZlcmlmaWVkXCIsXCJhcmdzXCI6XCJcIn0ifQ%3D%3D'\n",
    "\n",
    "time.sleep(5)\n",
    "searchDriver.get('https://www.facebook.com/search/pages/?q='+ subject + opt_filter)"
   ]
  },
  {
   "cell_type": "code",
   "execution_count": 5,
   "metadata": {},
   "outputs": [],
   "source": [
    "def scrollDown(driver, n):\n",
    "    # scrolls n times to get the number of pages you want\n",
    "    for _ in range(n):\n",
    "        # Scroll down to the bottom. \n",
    "        driver.execute_script('window.scrollTo(0, document.body.scrollHeight)')\n",
    "        # Wait to load the page\n",
    "        time.sleep(5)"
   ]
  },
  {
   "cell_type": "code",
   "execution_count": null,
   "metadata": {},
   "outputs": [],
   "source": [
    "# scroll 5 times\n",
    "scrollDown(searchDriver, 5)\n",
    "\n",
    "# get the html source code from the page\n",
    "html = searchDriver.page_source\n",
    "\n",
    "# parse the html code\n",
    "soup = BeautifulSoup(html, 'html.parser')\n",
    "mydivs_url = soup.findAll(\"a\", {\"class\": \"nc684nl6\"})"
   ]
  },
  {
   "cell_type": "markdown",
   "metadata": {},
   "source": [
    "### Store all the pages in a list (useless if you want to focus on a single page)"
   ]
  },
  {
   "cell_type": "code",
   "execution_count": 7,
   "metadata": {},
   "outputs": [],
   "source": [
    "# list of tuples : (pages url, page name)\n",
    "pages_fb = []\n",
    "\n",
    "for div in mydivs_url:\n",
    "    pages_fb += [[div[\"href\"], div.text]]"
   ]
  },
  {
   "cell_type": "code",
   "execution_count": 8,
   "metadata": {},
   "outputs": [
    {
     "data": {
      "text/plain": [
       "[['https://www.facebook.com/parismarathon/',\n",
       "  'Schneider Electric Marathon de Paris'],\n",
       " ['https://www.facebook.com/SchneiderElectricFR/', 'Schneider Electric'],\n",
       " ['https://www.facebook.com/electricguest/', 'Electric Guest'],\n",
       " ['https://www.facebook.com/Skryptom/', 'Skryptöm'],\n",
       " ['https://www.facebook.com/electricsixofficial/', 'Electric 6'],\n",
       " ['https://www.facebook.com/ElectricLightOrchestra/',\n",
       "  'Electric Light Orchestra'],\n",
       " ['https://www.facebook.com/electriccars/', 'Electric Cars'],\n",
       " ['https://www.facebook.com/NissanElectric/', 'Nissan Electric'],\n",
       " ['https://www.facebook.com/electricwizarddorsetdoom/', 'Electric Wizard'],\n",
       " ['https://www.facebook.com/ElectricMoonOfficial/', 'Electric Moon']]"
      ]
     },
     "execution_count": 8,
     "metadata": {},
     "output_type": "execute_result"
    }
   ],
   "source": [
    "pages_fb[:10]"
   ]
  },
  {
   "cell_type": "markdown",
   "metadata": {},
   "source": [
    "# Scrape the Facebook Ad Library to get the ads posted by the pages"
   ]
  },
  {
   "cell_type": "markdown",
   "metadata": {},
   "source": [
    "### Open the Facebook Ad Library"
   ]
  },
  {
   "cell_type": "code",
   "execution_count": 9,
   "metadata": {},
   "outputs": [
    {
     "name": "stderr",
     "output_type": "stream",
     "text": [
      "[WDM] - Current google-chrome version is 86.0.4240\n",
      "[WDM] - Get LATEST driver version for 86.0.4240\n",
      "[WDM] - Driver [/Users/theolanganay/.wdm/drivers/chromedriver/mac64/86.0.4240.22/chromedriver] found in cache\n"
     ]
    },
    {
     "name": "stdout",
     "output_type": "stream",
     "text": [
      " \n"
     ]
    }
   ],
   "source": [
    "# choose the right country\n",
    "country = 'FR'\n",
    "\n",
    "#\n",
    "url = 'https://www.facebook.com/ads/library/?active_status=all&ad_type=all&country=' + country + '&sort_data[direction]=desc&sort_data[mode]=relevancy_monthly_grouped'\n",
    "driver = webdriver.Chrome(options = option, executable_path=ChromeDriverManager().install())\n",
    "driver.get(url)\n",
    "driver.find_element_by_xpath('//*[@data-testid=\"cookie-policy-banner-accept\"]').click()    "
   ]
  },
  {
   "cell_type": "markdown",
   "metadata": {},
   "source": [
    "### Option 1 : Scrape all the pages in the list of previously scraped pages "
   ]
  },
  {
   "cell_type": "code",
   "execution_count": 10,
   "metadata": {},
   "outputs": [],
   "source": [
    "def scrape_multiple(pages):\n",
    "    htmls = {}\n",
    "    for page in pages:\n",
    "        page_name = page[1]\n",
    "        #Convert pageID into a string if it isn’t already\n",
    "        if type(page_name) == int:\n",
    "            page_name = str(page_name)\n",
    "\n",
    "        to_fill = driver.find_element_by_xpath(\"//input[@placeholder='Recherchez des publicités par nom de l’annonceur']\")\n",
    "        to_fill.send_keys(page_name)\n",
    "\n",
    "        to_click = WebDriverWait(driver, 15).until(EC.element_to_be_clickable((By.CLASS_NAME, '_9ftp')))\n",
    "        #to_click = driver.find_element_by_class_name('check_res_button')\n",
    "        to_click.click()\n",
    "\n",
    "        #Call the scroll_down function from Part I, to load all ads in the ad library\n",
    "        scrollDown(driver, 2)\n",
    "\n",
    "        #Retrieve the HTML of the fully loaded ad library page\n",
    "        html = driver.page_source\n",
    "        htmls[page_name] = html\n",
    "\n",
    "        # go back and keep going\n",
    "        driver.back()\n",
    "        driver.find_element_by_xpath(\"//input[@placeholder='Recherchez des publicités par nom de l’annonceur']\").clear()\n",
    "    \n",
    "    return(htmls)"
   ]
  },
  {
   "cell_type": "code",
   "execution_count": 11,
   "metadata": {},
   "outputs": [],
   "source": [
    "html_code = scrape_multiple(pages_fb)\n",
    "\n",
    "# If you get a click interception error, try to rerun the cell"
   ]
  },
  {
   "cell_type": "markdown",
   "metadata": {},
   "source": [
    "### Option 2 : Scrape the ads of the single page we want to focus on"
   ]
  },
  {
   "cell_type": "code",
   "execution_count": 12,
   "metadata": {},
   "outputs": [],
   "source": [
    "def scrape_single(page_name):\n",
    "    htmls = {}\n",
    "    #Convert pageID into a string if it isn’t already\n",
    "    if type(page_name) == int:\n",
    "        page_name = str(page_name)\n",
    "\n",
    "    to_fill = driver.find_element_by_xpath(\"//input[@placeholder='Recherchez des publicités par nom de l’annonceur']\")\n",
    "    to_fill.send_keys(page_name)\n",
    "\n",
    "    to_click = WebDriverWait(driver, 15).until(EC.element_to_be_clickable((By.CLASS_NAME, '_9ftp')))\n",
    "    #to_click = driver.find_element_by_class_name('check_res_button')\n",
    "    to_click.click()\n",
    "\n",
    "    #Call the scroll_down function from Part I, to load all ads in the ad library. If the page is long, increase the number in the function\n",
    "    scrollDown(driver, 3)\n",
    "\n",
    "    #Retrieve the HTML of the fully loaded ad library page\n",
    "    html = driver.page_source\n",
    "    htmls[page_name] = html\n",
    "\n",
    "    # go back and keep going\n",
    "    driver.back()\n",
    "    driver.find_element_by_xpath(\"//input[@placeholder='Recherchez des publicités par nom de l’annonceur']\").clear()\n",
    "    \n",
    "    return(htmls)"
   ]
  },
  {
   "cell_type": "markdown",
   "metadata": {},
   "source": [
    "### Create a DataFrame of the previously scraped ads"
   ]
  },
  {
   "cell_type": "code",
   "execution_count": 14,
   "metadata": {},
   "outputs": [],
   "source": [
    "def create_ad_dic(html):\n",
    "    \n",
    "    all_ads = {}\n",
    "\n",
    "    for key in html.keys():\n",
    "        html_soup = BeautifulSoup(html[key], 'html.parser')\n",
    "        ads_info = html_soup.findAll(\"div\", {\"class\": \"_9b9p _99s6\"})\n",
    "\n",
    "        ads = {}\n",
    "        i = 0\n",
    "\n",
    "        for ad in ads_info:\n",
    "            ad_info = {}\n",
    "            ad_info['status'] = ad.find(\"div\", {\"class\": \"_9cd2\"}).text\n",
    "            ad_info['date'] = ad.find(\"div\", {\"class\": \"_9cd3\"}).text\n",
    "            ad_info['text'] = ad.findAll(\"div\", {\"class\": \"_4ik4 _4ik5\"})[1].text\n",
    "            if ad.find(\"img\", {\"class\": \"_7jys img\"}) != None :\n",
    "                ad_info['type'] = 'single'\n",
    "                ad_info['image'] = ad.find(\"img\", {\"class\": \"_7jys img\"})['src']\n",
    "            elif ad.find(\"img\", {\"class\": \"_7jys _7jyt img\"}) != None:\n",
    "                images = ad.findAll(\"img\", {\"class\": \"_7jys _7jyt img\"})\n",
    "                ad_info['type'] = 'multiple'\n",
    "                ad_info['image'] = []\n",
    "                for image in images:    \n",
    "                    ad_info['image'].append(image['src'])\n",
    "            else:\n",
    "                ad_info['type'] = 'video'\n",
    "                ad_info['image'] = ad.find(\"div\", {\"class\": \"_8o0a _8o0b\"}).find(\"video\")['src']\n",
    "            ads[i] = ad_info\n",
    "            i += 1\n",
    "\n",
    "        all_ads[key] = ads\n",
    "    \n",
    "    return(all_ads)"
   ]
  },
  {
   "cell_type": "code",
   "execution_count": 15,
   "metadata": {},
   "outputs": [],
   "source": [
    "ad_dic = create_ad_dic(html_code)"
   ]
  },
  {
   "cell_type": "code",
   "execution_count": 16,
   "metadata": {},
   "outputs": [],
   "source": [
    "def create_ad_df(ads_dic):\n",
    "    dic_df = {}\n",
    "    i = 0\n",
    "    for page in ads_dic:\n",
    "        for ad in ads_dic[page]:\n",
    "            dic_df[i] = list(ads_dic[page][ad].values())\n",
    "            dic_df[i].insert(0, page)\n",
    "            i += 1\n",
    "    df = pd.DataFrame.from_dict(dic_df, orient = 'index', columns = ['Page', 'Status', 'Date', 'Text', 'Type','Image'])\n",
    "    df.Date = df.Date.apply(lambda x : x.replace('Début de diffusion le ', ''))\n",
    "    \n",
    "    return(df)"
   ]
  },
  {
   "cell_type": "code",
   "execution_count": 17,
   "metadata": {},
   "outputs": [],
   "source": [
    "ad_df = create_ad_df(ad_dic)"
   ]
  },
  {
   "cell_type": "code",
   "execution_count": 20,
   "metadata": {},
   "outputs": [
    {
     "data": {
      "text/html": [
       "<div>\n",
       "<style scoped>\n",
       "    .dataframe tbody tr th:only-of-type {\n",
       "        vertical-align: middle;\n",
       "    }\n",
       "\n",
       "    .dataframe tbody tr th {\n",
       "        vertical-align: top;\n",
       "    }\n",
       "\n",
       "    .dataframe thead th {\n",
       "        text-align: right;\n",
       "    }\n",
       "</style>\n",
       "<table border=\"1\" class=\"dataframe\">\n",
       "  <thead>\n",
       "    <tr style=\"text-align: right;\">\n",
       "      <th></th>\n",
       "      <th>Page</th>\n",
       "      <th>Status</th>\n",
       "      <th>Date</th>\n",
       "      <th>Text</th>\n",
       "      <th>Type</th>\n",
       "      <th>Image</th>\n",
       "    </tr>\n",
       "  </thead>\n",
       "  <tbody>\n",
       "    <tr>\n",
       "      <th>0</th>\n",
       "      <td>Electric 6</td>\n",
       "      <td>Actif</td>\n",
       "      <td>28 oct 2020</td>\n",
       "      <td>Official Super73 dealer in The Netherlands and...</td>\n",
       "      <td>multiple</td>\n",
       "      <td>[https://scontent.fcdg1-1.fna.fbcdn.net/v/t39....</td>\n",
       "    </tr>\n",
       "    <tr>\n",
       "      <th>1</th>\n",
       "      <td>Electric 6</td>\n",
       "      <td>Actif</td>\n",
       "      <td>29 oct 2020</td>\n",
       "      <td>Officieel dealer van WATT. Showroom in Antwerp...</td>\n",
       "      <td>multiple</td>\n",
       "      <td>[https://scontent.fcdg1-1.fna.fbcdn.net/v/t39....</td>\n",
       "    </tr>\n",
       "    <tr>\n",
       "      <th>2</th>\n",
       "      <td>Electric 6</td>\n",
       "      <td>Actif</td>\n",
       "      <td>28 oct 2020</td>\n",
       "      <td>Official Onewheel dealer for The Netherlands a...</td>\n",
       "      <td>multiple</td>\n",
       "      <td>[https://scontent.fcdg1-1.fna.fbcdn.net/v/t39....</td>\n",
       "    </tr>\n",
       "    <tr>\n",
       "      <th>3</th>\n",
       "      <td>9ELECTRIC</td>\n",
       "      <td>Actif</td>\n",
       "      <td>28 oct 2020</td>\n",
       "      <td>Official Super73 dealer in The Netherlands and...</td>\n",
       "      <td>multiple</td>\n",
       "      <td>[https://scontent.fcdg1-1.fna.fbcdn.net/v/t39....</td>\n",
       "    </tr>\n",
       "    <tr>\n",
       "      <th>4</th>\n",
       "      <td>9ELECTRIC</td>\n",
       "      <td>Actif</td>\n",
       "      <td>29 oct 2020</td>\n",
       "      <td>Officieel dealer van WATT. Showroom in Antwerp...</td>\n",
       "      <td>multiple</td>\n",
       "      <td>[https://scontent.fcdg1-1.fna.fbcdn.net/v/t39....</td>\n",
       "    </tr>\n",
       "    <tr>\n",
       "      <th>5</th>\n",
       "      <td>9ELECTRIC</td>\n",
       "      <td>Actif</td>\n",
       "      <td>28 oct 2020</td>\n",
       "      <td>Official Onewheel dealer for The Netherlands a...</td>\n",
       "      <td>multiple</td>\n",
       "      <td>[https://scontent.fcdg1-1.fna.fbcdn.net/v/t39....</td>\n",
       "    </tr>\n",
       "    <tr>\n",
       "      <th>6</th>\n",
       "      <td>ShargeMe Electric Vehicles</td>\n",
       "      <td>Actif</td>\n",
       "      <td>21 aoû 2019</td>\n",
       "      <td>Imagine if Electric Vehicles could Profitably ...</td>\n",
       "      <td>single</td>\n",
       "      <td>https://scontent.fcdg1-1.fna.fbcdn.net/v/t39.1...</td>\n",
       "    </tr>\n",
       "    <tr>\n",
       "      <th>7</th>\n",
       "      <td>Electric Daisy Carnival - EDC Portugal</td>\n",
       "      <td>Actif</td>\n",
       "      <td>17 oct 2020</td>\n",
       "      <td>If you've not purchased yours yet, don't sleep...</td>\n",
       "      <td>video</td>\n",
       "      <td>https://video.fcdg1-1.fna.fbcdn.net/v/t42.1790...</td>\n",
       "    </tr>\n",
       "  </tbody>\n",
       "</table>\n",
       "</div>"
      ],
      "text/plain": [
       "                                     Page Status         Date  \\\n",
       "0                              Electric 6  Actif  28 oct 2020   \n",
       "1                              Electric 6  Actif  29 oct 2020   \n",
       "2                              Electric 6  Actif  28 oct 2020   \n",
       "3                               9ELECTRIC  Actif  28 oct 2020   \n",
       "4                               9ELECTRIC  Actif  29 oct 2020   \n",
       "5                               9ELECTRIC  Actif  28 oct 2020   \n",
       "6              ShargeMe Electric Vehicles  Actif  21 aoû 2019   \n",
       "7  Electric Daisy Carnival - EDC Portugal  Actif  17 oct 2020   \n",
       "\n",
       "                                                Text      Type  \\\n",
       "0  Official Super73 dealer in The Netherlands and...  multiple   \n",
       "1  Officieel dealer van WATT. Showroom in Antwerp...  multiple   \n",
       "2  Official Onewheel dealer for The Netherlands a...  multiple   \n",
       "3  Official Super73 dealer in The Netherlands and...  multiple   \n",
       "4  Officieel dealer van WATT. Showroom in Antwerp...  multiple   \n",
       "5  Official Onewheel dealer for The Netherlands a...  multiple   \n",
       "6  Imagine if Electric Vehicles could Profitably ...    single   \n",
       "7  If you've not purchased yours yet, don't sleep...     video   \n",
       "\n",
       "                                               Image  \n",
       "0  [https://scontent.fcdg1-1.fna.fbcdn.net/v/t39....  \n",
       "1  [https://scontent.fcdg1-1.fna.fbcdn.net/v/t39....  \n",
       "2  [https://scontent.fcdg1-1.fna.fbcdn.net/v/t39....  \n",
       "3  [https://scontent.fcdg1-1.fna.fbcdn.net/v/t39....  \n",
       "4  [https://scontent.fcdg1-1.fna.fbcdn.net/v/t39....  \n",
       "5  [https://scontent.fcdg1-1.fna.fbcdn.net/v/t39....  \n",
       "6  https://scontent.fcdg1-1.fna.fbcdn.net/v/t39.1...  \n",
       "7  https://video.fcdg1-1.fna.fbcdn.net/v/t42.1790...  "
      ]
     },
     "execution_count": 20,
     "metadata": {},
     "output_type": "execute_result"
    }
   ],
   "source": [
    "ad_df"
   ]
  }
 ],
 "metadata": {
  "kernelspec": {
   "display_name": "Python 3",
   "language": "python",
   "name": "python3"
  },
  "language_info": {
   "codemirror_mode": {
    "name": "ipython",
    "version": 3
   },
   "file_extension": ".py",
   "mimetype": "text/x-python",
   "name": "python",
   "nbconvert_exporter": "python",
   "pygments_lexer": "ipython3",
   "version": "3.8.5"
  }
 },
 "nbformat": 4,
 "nbformat_minor": 4
}
